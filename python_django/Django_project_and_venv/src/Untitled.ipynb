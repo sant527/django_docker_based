{
 "cells": [
  {
   "cell_type": "code",
   "execution_count": 1,
   "id": "potential-accreditation",
   "metadata": {},
   "outputs": [
    {
     "name": "stderr",
     "output_type": "stream",
     "text": [
      "[0.108]\n",
      "\u001b[38;2;0;128;0;01mINSERT\u001b[39;00m \u001b[38;2;0;128;0;01mINTO\u001b[39;00m \u001b[38;2;25;23;124m\"users_user\"\u001b[39m (\u001b[38;2;25;23;124m\"password\"\u001b[39m,\n",
      "                          \u001b[38;2;25;23;124m\"last_login\"\u001b[39m,\n",
      "                          \u001b[38;2;25;23;124m\"is_superuser\"\u001b[39m,\n",
      "                          \u001b[38;2;25;23;124m\"username\"\u001b[39m,\n",
      "                          \u001b[38;2;25;23;124m\"first_name\"\u001b[39m,\n",
      "                          \u001b[38;2;25;23;124m\"last_name\"\u001b[39m,\n",
      "                          \u001b[38;2;25;23;124m\"email\"\u001b[39m,\n",
      "                          \u001b[38;2;25;23;124m\"is_staff\"\u001b[39m,\n",
      "                          \u001b[38;2;25;23;124m\"is_active\"\u001b[39m,\n",
      "                          \u001b[38;2;25;23;124m\"date_joined\"\u001b[39m)\n",
      "\u001b[38;2;0;128;0;01mVALUES\u001b[39;00m (\u001b[38;2;186;33;33m'pbkdf2_sha256$216000$iI7x8Suv8qeC$SOF9A7rXkzb+yX+0ZBDgE5OL8P2r7m246C/TpB/ENZc='\u001b[39m, \u001b[38;2;0;128;0;01mNULL\u001b[39;00m, \u001b[38;2;102;102;102m1\u001b[39m, \u001b[38;2;186;33;33m'test'\u001b[39m, \u001b[38;2;186;33;33m'test'\u001b[39m, \u001b[38;2;186;33;33m'test'\u001b[39m, \u001b[38;2;186;33;33m'test@test.com'\u001b[39m, \u001b[38;2;102;102;102m1\u001b[39m, \u001b[38;2;102;102;102m1\u001b[39m, \u001b[38;2;186;33;33m'2021-02-26 20:02:32.632076'\u001b[39m)\n",
      "\n"
     ]
    },
    {
     "name": "stdout",
     "output_type": "stream",
     "text": [
      "\n",
      "\n",
      "##############################################################################################################\n",
      "SQL QUERIED\n",
      "##############################################################################################################\n",
      "\n",
      "\n",
      "  File \"/home/simha/app/.venv/lib/python3.7/site-packages/IPython/core/interactiveshell.py\", line 3156, in run_cell_async\n",
      "    interactivity=interactivity, compiler=compiler, result=result)\n",
      "  File \"/home/simha/app/.venv/lib/python3.7/site-packages/IPython/core/interactiveshell.py\", line 3347, in run_ast_nodes\n",
      "    if (await self.run_code(code, result,  async_=asy)):\n",
      "  File \"/home/simha/app/.venv/lib/python3.7/site-packages/IPython/core/interactiveshell.py\", line 3427, in run_code\n",
      "    exec(code_obj, self.user_global_ns, self.user_ns)\n",
      "  File \"<ipython-input-1-2fe84cfbb8dc>\", line 11, in <module>\n",
      "    email =  \"test@test.com\",\n",
      "  File \"/home/simha/app/.venv/lib/python3.7/site-packages/django/contrib/auth/base_user.py\", line 67, in save\n",
      "    super().save(*args, **kwargs)\n",
      "  File \"/home/simha/app/.venv/lib/python3.7/site-packages/django/db/models/base.py\", line 754, in save\n",
      "    force_update=force_update, update_fields=update_fields)\n",
      "  File \"/home/simha/app/.venv/lib/python3.7/site-packages/django/db/models/base.py\", line 792, in save_base\n",
      "    force_update, using, update_fields,\n",
      "  File \"/home/simha/app/.venv/lib/python3.7/site-packages/django/db/models/base.py\", line 895, in _save_table\n",
      "    results = self._do_insert(cls._base_manager, using, fields, returning_fields, raw)\n",
      "  File \"/home/simha/app/.venv/lib/python3.7/site-packages/django/db/models/base.py\", line 935, in _do_insert\n",
      "    using=using, raw=raw,\n",
      "  File \"/home/simha/app/.venv/lib/python3.7/site-packages/django/db/models/manager.py\", line 85, in manager_method\n",
      "    return getattr(self.get_queryset(), name)(*args, **kwargs)\n",
      "  File \"/home/simha/app/.venv/lib/python3.7/site-packages/django/db/models/query.py\", line 1254, in _insert\n",
      "    return query.get_compiler(using=using).execute_sql(returning_fields)\n",
      "  File \"/home/simha/app/.venv/lib/python3.7/site-packages/django/db/models/sql/compiler.py\", line 1397, in execute_sql\n",
      "    cursor.execute(sql, params)\n",
      "  File \"/home/simha/app/.venv/lib/python3.7/site-packages/django/db/backends/utils.py\", line 98, in execute\n",
      "    return super().execute(sql, params)\n",
      "  File \"/usr/local/lib/python3.7/contextlib.py\", line 119, in __exit__\n",
      "    next(self.gen)\n",
      "  File \"/home/simha/app/.venv/lib/python3.7/site-packages/django/db/backends/utils.py\", line 128, in debug_sql\n",
      "    extra={'duration': duration, 'sql': sql, 'params': params},\n",
      "  File \"/usr/local/lib/python3.7/logging/__init__.py\", line 1366, in debug\n",
      "    self._log(DEBUG, msg, args, **kwargs)\n",
      "  File \"/usr/local/lib/python3.7/logging/__init__.py\", line 1514, in _log\n",
      "    self.handle(record)\n",
      "  File \"/usr/local/lib/python3.7/logging/__init__.py\", line 1523, in handle\n",
      "    if (not self.disabled) and self.filter(record):\n",
      "  File \"/usr/local/lib/python3.7/logging/__init__.py\", line 751, in filter\n",
      "    result = f.filter(record)\n",
      "  File \"/home/simha/app/src/project/settings.py\", line 362, in filter\n",
      "    print(pp_traceback(traceback.format_stack(limit=20)))\n",
      "\n",
      "\n",
      "\n"
     ]
    }
   ],
   "source": [
    "from django.contrib.auth.hashers import make_password\n",
    "from users.models import User\n",
    "User(\n",
    "  username =  \"test\",\n",
    "  password = make_password(\"test\", None, 'pbkdf2_sha256'),\n",
    "  is_active =  1,\n",
    "  is_superuser = 1,\n",
    "  is_staff = 1,\n",
    "  first_name =  \"test\",\n",
    "  last_name =  \"test\",\n",
    "  email =  \"test@test.com\",\n",
    ").save()"
   ]
  }
 ],
 "metadata": {
  "kernelspec": {
   "display_name": "Django Shell-Plus",
   "language": "python",
   "name": "django_extensions"
  },
  "language_info": {
   "codemirror_mode": {
    "name": "ipython",
    "version": 3
   },
   "file_extension": ".py",
   "mimetype": "text/x-python",
   "name": "python",
   "nbconvert_exporter": "python",
   "pygments_lexer": "ipython3",
   "version": "3.7.9"
  }
 },
 "nbformat": 4,
 "nbformat_minor": 5
}
